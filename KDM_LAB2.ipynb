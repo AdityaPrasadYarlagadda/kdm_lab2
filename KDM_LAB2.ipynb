{
  "nbformat": 4,
  "nbformat_minor": 0,
  "metadata": {
    "colab": {
      "name": "KDM_LAB2.ipynb",
      "provenance": [],
      "authorship_tag": "ABX9TyNKdOOHiR45Mk0WJ2QvYABR",
      "include_colab_link": true
    },
    "kernelspec": {
      "name": "python3",
      "display_name": "Python 3"
    }
  },
  "cells": [
    {
      "cell_type": "markdown",
      "metadata": {
        "id": "view-in-github",
        "colab_type": "text"
      },
      "source": [
        "<a href=\"https://colab.research.google.com/github/AdityaPrasadYarlagadda/kdm_lab2/blob/main/KDM_LAB2.ipynb\" target=\"_parent\"><img src=\"https://colab.research.google.com/assets/colab-badge.svg\" alt=\"Open In Colab\"/></a>"
      ]
    },
    {
      "cell_type": "markdown",
      "metadata": {
        "id": "xxGri2v0oqNZ"
      },
      "source": [
        "Part of Speech (POS)"
      ]
    },
    {
      "cell_type": "code",
      "metadata": {
        "colab": {
          "base_uri": "https://localhost:8080/"
        },
        "id": "S6ok6EBEvXaX",
        "outputId": "ec861ee0-7bd5-458b-eef1-5055632536f8"
      },
      "source": [
        "import spacy\r\n",
        "sp = spacy.load('en_core_web_sm')\r\n",
        "sen = sp(\"Xi Jinping is a Chinese politician who has served as General Secretary of the Chinese Communist Party (CCP) and Chairman of the Central Military Commission (CMC) since 2012, and President of the People's Republic of China (PRC) since 2013. He has been the paramount leader of China, the most prominent political leader in the country, since 2012. The son of Chinese Communist veteran Xi Zhongxun, he was exiled to rural Yanchuan County as a teenager following his father's purge during the Cultural Revolution and lived in a cave in the village of Liangjiahe, where he joined the CCP and worked as the party secretary.\")\r\n",
        "for word in sen:\r\n",
        "    print(f'{word.text:{12}} {word.pos_:{10}} {word.tag_:{8}} {spacy.explain(word.tag_)}')"
      ],
      "execution_count": 6,
      "outputs": [
        {
          "output_type": "stream",
          "text": [
            "Xi           PROPN      NNP      noun, proper singular\n",
            "Jinping      PROPN      NNP      noun, proper singular\n",
            "is           AUX        VBZ      verb, 3rd person singular present\n",
            "a            DET        DT       determiner\n",
            "Chinese      ADJ        JJ       adjective\n",
            "politician   NOUN       NN       noun, singular or mass\n",
            "who          PRON       WP       wh-pronoun, personal\n",
            "has          AUX        VBZ      verb, 3rd person singular present\n",
            "served       VERB       VBN      verb, past participle\n",
            "as           SCONJ      IN       conjunction, subordinating or preposition\n",
            "General      PROPN      NNP      noun, proper singular\n",
            "Secretary    PROPN      NNP      noun, proper singular\n",
            "of           ADP        IN       conjunction, subordinating or preposition\n",
            "the          DET        DT       determiner\n",
            "Chinese      PROPN      NNP      noun, proper singular\n",
            "Communist    PROPN      NNP      noun, proper singular\n",
            "Party        PROPN      NNP      noun, proper singular\n",
            "(            PUNCT      -LRB-    left round bracket\n",
            "CCP          PROPN      NNP      noun, proper singular\n",
            ")            PUNCT      -RRB-    right round bracket\n",
            "and          CCONJ      CC       conjunction, coordinating\n",
            "Chairman     PROPN      NNP      noun, proper singular\n",
            "of           ADP        IN       conjunction, subordinating or preposition\n",
            "the          DET        DT       determiner\n",
            "Central      PROPN      NNP      noun, proper singular\n",
            "Military     PROPN      NNP      noun, proper singular\n",
            "Commission   PROPN      NNP      noun, proper singular\n",
            "(            PUNCT      -LRB-    left round bracket\n",
            "CMC          PROPN      NNP      noun, proper singular\n",
            ")            PUNCT      -RRB-    right round bracket\n",
            "since        SCONJ      IN       conjunction, subordinating or preposition\n",
            "2012         NUM        CD       cardinal number\n",
            ",            PUNCT      ,        punctuation mark, comma\n",
            "and          CCONJ      CC       conjunction, coordinating\n",
            "President    PROPN      NNP      noun, proper singular\n",
            "of           ADP        IN       conjunction, subordinating or preposition\n",
            "the          DET        DT       determiner\n",
            "People       PROPN      NNPS     noun, proper plural\n",
            "'s           PART       POS      possessive ending\n",
            "Republic     PROPN      NNP      noun, proper singular\n",
            "of           ADP        IN       conjunction, subordinating or preposition\n",
            "China        PROPN      NNP      noun, proper singular\n",
            "(            PUNCT      -LRB-    left round bracket\n",
            "PRC          PROPN      NNP      noun, proper singular\n",
            ")            PUNCT      -RRB-    right round bracket\n",
            "since        SCONJ      IN       conjunction, subordinating or preposition\n",
            "2013         NUM        CD       cardinal number\n",
            ".            PUNCT      .        punctuation mark, sentence closer\n",
            "He           PRON       PRP      pronoun, personal\n",
            "has          AUX        VBZ      verb, 3rd person singular present\n",
            "been         AUX        VBN      verb, past participle\n",
            "the          DET        DT       determiner\n",
            "paramount    ADJ        JJ       adjective\n",
            "leader       NOUN       NN       noun, singular or mass\n",
            "of           ADP        IN       conjunction, subordinating or preposition\n",
            "China        PROPN      NNP      noun, proper singular\n",
            ",            PUNCT      ,        punctuation mark, comma\n",
            "the          DET        DT       determiner\n",
            "most         ADV        RBS      adverb, superlative\n",
            "prominent    ADJ        JJ       adjective\n",
            "political    ADJ        JJ       adjective\n",
            "leader       NOUN       NN       noun, singular or mass\n",
            "in           ADP        IN       conjunction, subordinating or preposition\n",
            "the          DET        DT       determiner\n",
            "country      NOUN       NN       noun, singular or mass\n",
            ",            PUNCT      ,        punctuation mark, comma\n",
            "since        SCONJ      IN       conjunction, subordinating or preposition\n",
            "2012         NUM        CD       cardinal number\n",
            ".            PUNCT      .        punctuation mark, sentence closer\n",
            "The          DET        DT       determiner\n",
            "son          NOUN       NN       noun, singular or mass\n",
            "of           ADP        IN       conjunction, subordinating or preposition\n",
            "Chinese      PROPN      NNP      noun, proper singular\n",
            "Communist    ADJ        JJ       adjective\n",
            "veteran      NOUN       NN       noun, singular or mass\n",
            "Xi           PROPN      NNP      noun, proper singular\n",
            "Zhongxun     PROPN      NNP      noun, proper singular\n",
            ",            PUNCT      ,        punctuation mark, comma\n",
            "he           PRON       PRP      pronoun, personal\n",
            "was          AUX        VBD      verb, past tense\n",
            "exiled       VERB       VBN      verb, past participle\n",
            "to           ADP        IN       conjunction, subordinating or preposition\n",
            "rural        ADJ        JJ       adjective\n",
            "Yanchuan     PROPN      NNP      noun, proper singular\n",
            "County       PROPN      NNP      noun, proper singular\n",
            "as           SCONJ      IN       conjunction, subordinating or preposition\n",
            "a            DET        DT       determiner\n",
            "teenager     NOUN       NN       noun, singular or mass\n",
            "following    VERB       VBG      verb, gerund or present participle\n",
            "his          DET        PRP$     pronoun, possessive\n",
            "father       NOUN       NN       noun, singular or mass\n",
            "'s           PART       POS      possessive ending\n",
            "purge        NOUN       NN       noun, singular or mass\n",
            "during       ADP        IN       conjunction, subordinating or preposition\n",
            "the          DET        DT       determiner\n",
            "Cultural     PROPN      NNP      noun, proper singular\n",
            "Revolution   PROPN      NNP      noun, proper singular\n",
            "and          CCONJ      CC       conjunction, coordinating\n",
            "lived        VERB       VBD      verb, past tense\n",
            "in           ADP        IN       conjunction, subordinating or preposition\n",
            "a            DET        DT       determiner\n",
            "cave         NOUN       NN       noun, singular or mass\n",
            "in           ADP        IN       conjunction, subordinating or preposition\n",
            "the          DET        DT       determiner\n",
            "village      NOUN       NN       noun, singular or mass\n",
            "of           ADP        IN       conjunction, subordinating or preposition\n",
            "Liangjiahe   PROPN      NNP      noun, proper singular\n",
            ",            PUNCT      ,        punctuation mark, comma\n",
            "where        ADV        WRB      wh-adverb\n",
            "he           PRON       PRP      pronoun, personal\n",
            "joined       VERB       VBD      verb, past tense\n",
            "the          DET        DT       determiner\n",
            "CCP          PROPN      NNP      noun, proper singular\n",
            "and          CCONJ      CC       conjunction, coordinating\n",
            "worked       VERB       VBD      verb, past tense\n",
            "as           SCONJ      IN       conjunction, subordinating or preposition\n",
            "the          DET        DT       determiner\n",
            "party        NOUN       NN       noun, singular or mass\n",
            "secretary    NOUN       NN       noun, singular or mass\n",
            ".            PUNCT      .        punctuation mark, sentence closer\n"
          ],
          "name": "stdout"
        }
      ]
    },
    {
      "cell_type": "markdown",
      "metadata": {
        "id": "CHUFjHliwaB1"
      },
      "source": [
        "Named entity recognizer (NER)"
      ]
    },
    {
      "cell_type": "code",
      "metadata": {
        "colab": {
          "base_uri": "https://localhost:8080/"
        },
        "id": "CmBtcOsxwsse",
        "outputId": "7d229686-eca5-48cf-b4eb-8b001b3546d1"
      },
      "source": [
        "import spacy\r\n",
        "sp = spacy.load('en_core_web_sm')\r\n",
        "sen = sp(\"Xi Jinping is a Chinese politician who has served as General Secretary of the Chinese Communist Party (CCP) and Chairman of the Central Military Commission (CMC) since 2012, and President of the People's Republic of China (PRC) since 2013. He has been the paramount leader of China, the most prominent political leader in the country, since 2012. The son of Chinese Communist veteran Xi Zhongxun, he was exiled to rural Yanchuan County as a teenager following his father's purge during the Cultural Revolution and lived in a cave in the village of Liangjiahe, where he joined the CCP and worked as the party secretary.\")\r\n",
        "print(sen.ents)\r\n",
        "for entity in sen.ents:\r\n",
        "    print(entity.text + ' - ' + entity.label_ + ' - ' + str(spacy.explain(entity.label_)))\r\n"
      ],
      "execution_count": 7,
      "outputs": [
        {
          "output_type": "stream",
          "text": [
            "(Xi Jinping, Chinese, the Chinese Communist Party, CCP, the Central Military Commission, 2012, the People's Republic of China, PRC, 2013, China, 2012, Chinese, Communist, Xi Zhongxun, Yanchuan County, the Cultural Revolution, Liangjiahe, CCP)\n",
            "Xi Jinping - PERSON - People, including fictional\n",
            "Chinese - NORP - Nationalities or religious or political groups\n",
            "the Chinese Communist Party - ORG - Companies, agencies, institutions, etc.\n",
            "CCP - ORG - Companies, agencies, institutions, etc.\n",
            "the Central Military Commission - ORG - Companies, agencies, institutions, etc.\n",
            "2012 - DATE - Absolute or relative dates or periods\n",
            "the People's Republic of China - GPE - Countries, cities, states\n",
            "PRC - GPE - Countries, cities, states\n",
            "2013 - DATE - Absolute or relative dates or periods\n",
            "China - GPE - Countries, cities, states\n",
            "2012 - DATE - Absolute or relative dates or periods\n",
            "Chinese - NORP - Nationalities or religious or political groups\n",
            "Communist - NORP - Nationalities or religious or political groups\n",
            "Xi Zhongxun - PERSON - People, including fictional\n",
            "Yanchuan County - GPE - Countries, cities, states\n",
            "the Cultural Revolution - EVENT - Named hurricanes, battles, wars, sports events, etc.\n",
            "Liangjiahe - GPE - Countries, cities, states\n",
            "CCP - ORG - Companies, agencies, institutions, etc.\n"
          ],
          "name": "stdout"
        }
      ]
    },
    {
      "cell_type": "markdown",
      "metadata": {
        "id": "ZuFmDXwf8pSs"
      },
      "source": [
        ""
      ]
    },
    {
      "cell_type": "markdown",
      "metadata": {
        "id": "YGOvsYBCzOJ-"
      },
      "source": [
        "Lemmatization"
      ]
    },
    {
      "cell_type": "code",
      "metadata": {
        "colab": {
          "base_uri": "https://localhost:8080/"
        },
        "id": "ROfJLJhHzV8L",
        "outputId": "5f733bc8-e349-437f-807c-355aac4147b0"
      },
      "source": [
        "import spacy\r\n",
        "nlp = spacy.load('en', disable=['parser', 'ner'])\r\n",
        "doc = nlp(\"Xi Jinping is a Chinese politician who has served as General Secretary of the Chinese Communist Party (CCP) and Chairman of the Central Military Commission (CMC) since 2012, and President of the People's Republic of China (PRC) since 2013. He has been the paramount leader of China, the most prominent political leader in the country, since 2012. The son of Chinese Communist veteran Xi Zhongxun, he was exiled to rural Yanchuan County as a teenager following his father's purge during the Cultural Revolution and lived in a cave in the village of Liangjiahe, where he joined the CCP and worked as the party secretary.\")\r\n",
        "print(\" \".join([token.lemma_ for token in doc]))"
      ],
      "execution_count": 9,
      "outputs": [
        {
          "output_type": "stream",
          "text": [
            "Xi Jinping be a chinese politician who have serve as General Secretary of the Chinese Communist Party ( CCP ) and Chairman of the Central Military Commission ( CMC ) since 2012 , and President of the People 's Republic of China ( PRC ) since 2013 . -PRON- have be the paramount leader of China , the most prominent political leader in the country , since 2012 . the son of Chinese communist veteran Xi Zhongxun , -PRON- be exile to rural Yanchuan County as a teenager follow -PRON- father 's purge during the Cultural Revolution and live in a cave in the village of Liangjiahe , where -PRON- join the CCP and work as the party secretary .\n"
          ],
          "name": "stdout"
        }
      ]
    },
    {
      "cell_type": "markdown",
      "metadata": {
        "id": "GRODm2us2LHO"
      },
      "source": [
        "Parsing"
      ]
    },
    {
      "cell_type": "code",
      "metadata": {
        "colab": {
          "base_uri": "https://localhost:8080/"
        },
        "id": "R76mlnmf2P3f",
        "outputId": "a2ec64ca-db2e-410d-98b8-3c68abb29206"
      },
      "source": [
        "import spacy\r\n",
        "nlp = spacy.load(\"en_core_web_sm\")\r\n",
        "text = (\"Xi Jinping is a Chinese politician who has served as General Secretary of the Chinese Communist Party (CCP) and Chairman of the Central Military Commission (CMC) since 2012, and President of the People's Republic of China (PRC) since 2013. He has been the paramount leader of China, the most prominent political leader in the country, since 2012. The son of Chinese Communist veteran Xi Zhongxun, he was exiled to rural Yanchuan County as a teenager following his father's purge during the Cultural Revolution and lived in a cave in the village of Liangjiahe, where he joined the CCP and worked as the party secretary.\")\r\n",
        "doc = nlp(text)\r\n",
        "print(\"Noun phrases:\", [chunk.text for chunk in doc.noun_chunks])\r\n",
        "for entity in doc.ents:\r\n",
        "    print(entity.text, entity.label_)"
      ],
      "execution_count": 20,
      "outputs": [
        {
          "output_type": "stream",
          "text": [
            "Noun phrases: ['Xi Jinping', 'a Chinese politician', 'who', 'the Chinese Communist Party', 'Chairman', 'the Central Military Commission', 'CMC', 'President', \"the People's Republic\", 'China', '(PRC', 'He', 'the paramount leader', 'China', 'the most prominent political leader', 'the country', 'Chinese Communist veteran Xi Zhongxun', 'he', 'Yanchuan County', 'a teenager', \"his father's purge\", 'the Cultural Revolution', 'a cave', 'the village', 'Liangjiahe', 'he', 'the CCP', 'the party secretary']\n",
            "Xi Jinping PERSON\n",
            "Chinese NORP\n",
            "the Chinese Communist Party ORG\n",
            "CCP ORG\n",
            "the Central Military Commission ORG\n",
            "2012 DATE\n",
            "the People's Republic of China GPE\n",
            "PRC GPE\n",
            "2013 DATE\n",
            "China GPE\n",
            "2012 DATE\n",
            "Chinese NORP\n",
            "Communist NORP\n",
            "Xi Zhongxun PERSON\n",
            "Yanchuan County GPE\n",
            "the Cultural Revolution EVENT\n",
            "Liangjiahe GPE\n",
            "CCP ORG\n"
          ],
          "name": "stdout"
        }
      ]
    }
  ]
}