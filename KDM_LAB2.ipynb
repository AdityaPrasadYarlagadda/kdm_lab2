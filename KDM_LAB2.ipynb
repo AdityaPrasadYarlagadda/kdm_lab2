{
  "nbformat": 4,
  "nbformat_minor": 0,
  "metadata": {
    "colab": {
      "name": "KDM_LAB2.ipynb",
      "provenance": [],
      "authorship_tag": "ABX9TyOAiJor969XKXq5dJMv3adv",
      "include_colab_link": true
    },
    "kernelspec": {
      "name": "python3",
      "display_name": "Python 3"
    }
  },
  "cells": [
    {
      "cell_type": "markdown",
      "metadata": {
        "id": "view-in-github",
        "colab_type": "text"
      },
      "source": [
        "<a href=\"https://colab.research.google.com/github/AdityaPrasadYarlagadda/kdm_lab2/blob/main/KDM_LAB2.ipynb\" target=\"_parent\"><img src=\"https://colab.research.google.com/assets/colab-badge.svg\" alt=\"Open In Colab\"/></a>"
      ]
    },
    {
      "cell_type": "markdown",
      "metadata": {
        "id": "xxGri2v0oqNZ"
      },
      "source": [
        "Part of Speech (POS)"
      ]
    },
    {
      "cell_type": "code",
      "metadata": {
        "colab": {
          "base_uri": "https://localhost:8080/"
        },
        "id": "S6ok6EBEvXaX",
        "outputId": "ec861ee0-7bd5-458b-eef1-5055632536f8"
      },
      "source": [
        "import spacy\r\n",
        "sp = spacy.load('en_core_web_sm')\r\n",
        "sen = sp(\"Xi Jinping is a Chinese politician who has served as General Secretary of the Chinese Communist Party (CCP) and Chairman of the Central Military Commission (CMC) since 2012, and President of the People's Republic of China (PRC) since 2013. He has been the paramount leader of China, the most prominent political leader in the country, since 2012. The son of Chinese Communist veteran Xi Zhongxun, he was exiled to rural Yanchuan County as a teenager following his father's purge during the Cultural Revolution and lived in a cave in the village of Liangjiahe, where he joined the CCP and worked as the party secretary.\")\r\n",
        "for word in sen:\r\n",
        "    print(f'{word.text:{12}} {word.pos_:{10}} {word.tag_:{8}} {spacy.explain(word.tag_)}')"
      ],
      "execution_count": null,
      "outputs": [
        {
          "output_type": "stream",
          "text": [
            "Xi           PROPN      NNP      noun, proper singular\n",
            "Jinping      PROPN      NNP      noun, proper singular\n",
            "is           AUX        VBZ      verb, 3rd person singular present\n",
            "a            DET        DT       determiner\n",
            "Chinese      ADJ        JJ       adjective\n",
            "politician   NOUN       NN       noun, singular or mass\n",
            "who          PRON       WP       wh-pronoun, personal\n",
            "has          AUX        VBZ      verb, 3rd person singular present\n",
            "served       VERB       VBN      verb, past participle\n",
            "as           SCONJ      IN       conjunction, subordinating or preposition\n",
            "General      PROPN      NNP      noun, proper singular\n",
            "Secretary    PROPN      NNP      noun, proper singular\n",
            "of           ADP        IN       conjunction, subordinating or preposition\n",
            "the          DET        DT       determiner\n",
            "Chinese      PROPN      NNP      noun, proper singular\n",
            "Communist    PROPN      NNP      noun, proper singular\n",
            "Party        PROPN      NNP      noun, proper singular\n",
            "(            PUNCT      -LRB-    left round bracket\n",
            "CCP          PROPN      NNP      noun, proper singular\n",
            ")            PUNCT      -RRB-    right round bracket\n",
            "and          CCONJ      CC       conjunction, coordinating\n",
            "Chairman     PROPN      NNP      noun, proper singular\n",
            "of           ADP        IN       conjunction, subordinating or preposition\n",
            "the          DET        DT       determiner\n",
            "Central      PROPN      NNP      noun, proper singular\n",
            "Military     PROPN      NNP      noun, proper singular\n",
            "Commission   PROPN      NNP      noun, proper singular\n",
            "(            PUNCT      -LRB-    left round bracket\n",
            "CMC          PROPN      NNP      noun, proper singular\n",
            ")            PUNCT      -RRB-    right round bracket\n",
            "since        SCONJ      IN       conjunction, subordinating or preposition\n",
            "2012         NUM        CD       cardinal number\n",
            ",            PUNCT      ,        punctuation mark, comma\n",
            "and          CCONJ      CC       conjunction, coordinating\n",
            "President    PROPN      NNP      noun, proper singular\n",
            "of           ADP        IN       conjunction, subordinating or preposition\n",
            "the          DET        DT       determiner\n",
            "People       PROPN      NNPS     noun, proper plural\n",
            "'s           PART       POS      possessive ending\n",
            "Republic     PROPN      NNP      noun, proper singular\n",
            "of           ADP        IN       conjunction, subordinating or preposition\n",
            "China        PROPN      NNP      noun, proper singular\n",
            "(            PUNCT      -LRB-    left round bracket\n",
            "PRC          PROPN      NNP      noun, proper singular\n",
            ")            PUNCT      -RRB-    right round bracket\n",
            "since        SCONJ      IN       conjunction, subordinating or preposition\n",
            "2013         NUM        CD       cardinal number\n",
            ".            PUNCT      .        punctuation mark, sentence closer\n",
            "He           PRON       PRP      pronoun, personal\n",
            "has          AUX        VBZ      verb, 3rd person singular present\n",
            "been         AUX        VBN      verb, past participle\n",
            "the          DET        DT       determiner\n",
            "paramount    ADJ        JJ       adjective\n",
            "leader       NOUN       NN       noun, singular or mass\n",
            "of           ADP        IN       conjunction, subordinating or preposition\n",
            "China        PROPN      NNP      noun, proper singular\n",
            ",            PUNCT      ,        punctuation mark, comma\n",
            "the          DET        DT       determiner\n",
            "most         ADV        RBS      adverb, superlative\n",
            "prominent    ADJ        JJ       adjective\n",
            "political    ADJ        JJ       adjective\n",
            "leader       NOUN       NN       noun, singular or mass\n",
            "in           ADP        IN       conjunction, subordinating or preposition\n",
            "the          DET        DT       determiner\n",
            "country      NOUN       NN       noun, singular or mass\n",
            ",            PUNCT      ,        punctuation mark, comma\n",
            "since        SCONJ      IN       conjunction, subordinating or preposition\n",
            "2012         NUM        CD       cardinal number\n",
            ".            PUNCT      .        punctuation mark, sentence closer\n",
            "The          DET        DT       determiner\n",
            "son          NOUN       NN       noun, singular or mass\n",
            "of           ADP        IN       conjunction, subordinating or preposition\n",
            "Chinese      PROPN      NNP      noun, proper singular\n",
            "Communist    ADJ        JJ       adjective\n",
            "veteran      NOUN       NN       noun, singular or mass\n",
            "Xi           PROPN      NNP      noun, proper singular\n",
            "Zhongxun     PROPN      NNP      noun, proper singular\n",
            ",            PUNCT      ,        punctuation mark, comma\n",
            "he           PRON       PRP      pronoun, personal\n",
            "was          AUX        VBD      verb, past tense\n",
            "exiled       VERB       VBN      verb, past participle\n",
            "to           ADP        IN       conjunction, subordinating or preposition\n",
            "rural        ADJ        JJ       adjective\n",
            "Yanchuan     PROPN      NNP      noun, proper singular\n",
            "County       PROPN      NNP      noun, proper singular\n",
            "as           SCONJ      IN       conjunction, subordinating or preposition\n",
            "a            DET        DT       determiner\n",
            "teenager     NOUN       NN       noun, singular or mass\n",
            "following    VERB       VBG      verb, gerund or present participle\n",
            "his          DET        PRP$     pronoun, possessive\n",
            "father       NOUN       NN       noun, singular or mass\n",
            "'s           PART       POS      possessive ending\n",
            "purge        NOUN       NN       noun, singular or mass\n",
            "during       ADP        IN       conjunction, subordinating or preposition\n",
            "the          DET        DT       determiner\n",
            "Cultural     PROPN      NNP      noun, proper singular\n",
            "Revolution   PROPN      NNP      noun, proper singular\n",
            "and          CCONJ      CC       conjunction, coordinating\n",
            "lived        VERB       VBD      verb, past tense\n",
            "in           ADP        IN       conjunction, subordinating or preposition\n",
            "a            DET        DT       determiner\n",
            "cave         NOUN       NN       noun, singular or mass\n",
            "in           ADP        IN       conjunction, subordinating or preposition\n",
            "the          DET        DT       determiner\n",
            "village      NOUN       NN       noun, singular or mass\n",
            "of           ADP        IN       conjunction, subordinating or preposition\n",
            "Liangjiahe   PROPN      NNP      noun, proper singular\n",
            ",            PUNCT      ,        punctuation mark, comma\n",
            "where        ADV        WRB      wh-adverb\n",
            "he           PRON       PRP      pronoun, personal\n",
            "joined       VERB       VBD      verb, past tense\n",
            "the          DET        DT       determiner\n",
            "CCP          PROPN      NNP      noun, proper singular\n",
            "and          CCONJ      CC       conjunction, coordinating\n",
            "worked       VERB       VBD      verb, past tense\n",
            "as           SCONJ      IN       conjunction, subordinating or preposition\n",
            "the          DET        DT       determiner\n",
            "party        NOUN       NN       noun, singular or mass\n",
            "secretary    NOUN       NN       noun, singular or mass\n",
            ".            PUNCT      .        punctuation mark, sentence closer\n"
          ],
          "name": "stdout"
        }
      ]
    },
    {
      "cell_type": "markdown",
      "metadata": {
        "id": "CHUFjHliwaB1"
      },
      "source": [
        "Named entity recognizer (NER)"
      ]
    },
    {
      "cell_type": "code",
      "metadata": {
        "colab": {
          "base_uri": "https://localhost:8080/"
        },
        "id": "CmBtcOsxwsse",
        "outputId": "7d229686-eca5-48cf-b4eb-8b001b3546d1"
      },
      "source": [
        "import spacy\r\n",
        "sp = spacy.load('en_core_web_sm')\r\n",
        "sen = sp(\"Xi Jinping is a Chinese politician who has served as General Secretary of the Chinese Communist Party (CCP) and Chairman of the Central Military Commission (CMC) since 2012, and President of the People's Republic of China (PRC) since 2013. He has been the paramount leader of China, the most prominent political leader in the country, since 2012. The son of Chinese Communist veteran Xi Zhongxun, he was exiled to rural Yanchuan County as a teenager following his father's purge during the Cultural Revolution and lived in a cave in the village of Liangjiahe, where he joined the CCP and worked as the party secretary.\")\r\n",
        "print(sen.ents)\r\n",
        "for entity in sen.ents:\r\n",
        "    print(entity.text + ' - ' + entity.label_ + ' - ' + str(spacy.explain(entity.label_)))\r\n"
      ],
      "execution_count": null,
      "outputs": [
        {
          "output_type": "stream",
          "text": [
            "(Xi Jinping, Chinese, the Chinese Communist Party, CCP, the Central Military Commission, 2012, the People's Republic of China, PRC, 2013, China, 2012, Chinese, Communist, Xi Zhongxun, Yanchuan County, the Cultural Revolution, Liangjiahe, CCP)\n",
            "Xi Jinping - PERSON - People, including fictional\n",
            "Chinese - NORP - Nationalities or religious or political groups\n",
            "the Chinese Communist Party - ORG - Companies, agencies, institutions, etc.\n",
            "CCP - ORG - Companies, agencies, institutions, etc.\n",
            "the Central Military Commission - ORG - Companies, agencies, institutions, etc.\n",
            "2012 - DATE - Absolute or relative dates or periods\n",
            "the People's Republic of China - GPE - Countries, cities, states\n",
            "PRC - GPE - Countries, cities, states\n",
            "2013 - DATE - Absolute or relative dates or periods\n",
            "China - GPE - Countries, cities, states\n",
            "2012 - DATE - Absolute or relative dates or periods\n",
            "Chinese - NORP - Nationalities or religious or political groups\n",
            "Communist - NORP - Nationalities or religious or political groups\n",
            "Xi Zhongxun - PERSON - People, including fictional\n",
            "Yanchuan County - GPE - Countries, cities, states\n",
            "the Cultural Revolution - EVENT - Named hurricanes, battles, wars, sports events, etc.\n",
            "Liangjiahe - GPE - Countries, cities, states\n",
            "CCP - ORG - Companies, agencies, institutions, etc.\n"
          ],
          "name": "stdout"
        }
      ]
    },
    {
      "cell_type": "markdown",
      "metadata": {
        "id": "ZuFmDXwf8pSs"
      },
      "source": [
        "Coreference resolution"
      ]
    },
    {
      "cell_type": "code",
      "metadata": {
        "colab": {
          "base_uri": "https://localhost:8080/"
        },
        "id": "GfhpxSPLQZDe",
        "outputId": "b4b826e5-ea21-481c-c16b-bc9d6d6de498"
      },
      "source": [
        "!pip install neuralcoref\r\n",
        "import spacy\r\n",
        "import neuralcoref\r\n",
        "\r\n",
        "nlp = spacy.load('en') \r\n",
        "neuralcoref.add_to_pipe(nlp)\r\n",
        "\r\n",
        "doc1 = nlp(\"Xi Jinping is a Chinese politician who has served as General Secretary of the Chinese Communist Party (CCP) and Chairman of the Central Military Commission (CMC) since 2012, and President of the People's Republic of China (PRC) since 2013. He has been the paramount leader of China, the most prominent political leader in the country, since 2012. The son of Chinese Communist veteran Xi Zhongxun, he was exiled to rural Yanchuan County as a teenager following his father's purge during the Cultural Revolution and lived in a cave in the village of Liangjiahe, where he joined the CCP and worked as the party secretary.\")\r\n",
        "print(doc1._.coref_clusters)"
      ],
      "execution_count": null,
      "outputs": [
        {
          "output_type": "stream",
          "text": [
            "Collecting neuralcoref\n",
            "\u001b[?25l  Downloading https://files.pythonhosted.org/packages/ea/24/0ec7845a5b73b637aa691ff4d1b9b48f3a0f3369f4002a59ffd7a7462fdb/neuralcoref-4.0-cp36-cp36m-manylinux1_x86_64.whl (287kB)\n",
            "\r\u001b[K     |█▏                              | 10kB 14.4MB/s eta 0:00:01\r\u001b[K     |██▎                             | 20kB 13.1MB/s eta 0:00:01\r\u001b[K     |███▍                            | 30kB 9.0MB/s eta 0:00:01\r\u001b[K     |████▋                           | 40kB 7.7MB/s eta 0:00:01\r\u001b[K     |█████▊                          | 51kB 4.2MB/s eta 0:00:01\r\u001b[K     |██████▉                         | 61kB 4.7MB/s eta 0:00:01\r\u001b[K     |████████                        | 71kB 4.7MB/s eta 0:00:01\r\u001b[K     |█████████▏                      | 81kB 5.1MB/s eta 0:00:01\r\u001b[K     |██████████▎                     | 92kB 5.4MB/s eta 0:00:01\r\u001b[K     |███████████▍                    | 102kB 5.5MB/s eta 0:00:01\r\u001b[K     |████████████▌                   | 112kB 5.5MB/s eta 0:00:01\r\u001b[K     |█████████████▊                  | 122kB 5.5MB/s eta 0:00:01\r\u001b[K     |██████████████▉                 | 133kB 5.5MB/s eta 0:00:01\r\u001b[K     |████████████████                | 143kB 5.5MB/s eta 0:00:01\r\u001b[K     |█████████████████               | 153kB 5.5MB/s eta 0:00:01\r\u001b[K     |██████████████████▎             | 163kB 5.5MB/s eta 0:00:01\r\u001b[K     |███████████████████▍            | 174kB 5.5MB/s eta 0:00:01\r\u001b[K     |████████████████████▌           | 184kB 5.5MB/s eta 0:00:01\r\u001b[K     |█████████████████████▋          | 194kB 5.5MB/s eta 0:00:01\r\u001b[K     |██████████████████████▉         | 204kB 5.5MB/s eta 0:00:01\r\u001b[K     |████████████████████████        | 215kB 5.5MB/s eta 0:00:01\r\u001b[K     |█████████████████████████       | 225kB 5.5MB/s eta 0:00:01\r\u001b[K     |██████████████████████████▎     | 235kB 5.5MB/s eta 0:00:01\r\u001b[K     |███████████████████████████▍    | 245kB 5.5MB/s eta 0:00:01\r\u001b[K     |████████████████████████████▌   | 256kB 5.5MB/s eta 0:00:01\r\u001b[K     |█████████████████████████████▋  | 266kB 5.5MB/s eta 0:00:01\r\u001b[K     |██████████████████████████████▉ | 276kB 5.5MB/s eta 0:00:01\r\u001b[K     |████████████████████████████████| 286kB 5.5MB/s eta 0:00:01\r\u001b[K     |████████████████████████████████| 296kB 5.5MB/s \n",
            "\u001b[?25hRequirement already satisfied: numpy>=1.15.0 in /usr/local/lib/python3.6/dist-packages (from neuralcoref) (1.19.5)\n",
            "Requirement already satisfied: spacy>=2.1.0 in /usr/local/lib/python3.6/dist-packages (from neuralcoref) (2.2.4)\n",
            "Collecting boto3\n",
            "\u001b[?25l  Downloading https://files.pythonhosted.org/packages/c3/db/a7e290eb77632c9d25247977bbfc99aef9cd59f7c13eea69f8fea44404af/boto3-1.16.63-py2.py3-none-any.whl (130kB)\n",
            "\u001b[K     |████████████████████████████████| 133kB 15.9MB/s \n",
            "\u001b[?25hRequirement already satisfied: requests<3.0.0,>=2.13.0 in /usr/local/lib/python3.6/dist-packages (from neuralcoref) (2.23.0)\n",
            "Requirement already satisfied: catalogue<1.1.0,>=0.0.7 in /usr/local/lib/python3.6/dist-packages (from spacy>=2.1.0->neuralcoref) (1.0.0)\n",
            "Requirement already satisfied: plac<1.2.0,>=0.9.6 in /usr/local/lib/python3.6/dist-packages (from spacy>=2.1.0->neuralcoref) (1.1.3)\n",
            "Requirement already satisfied: cymem<2.1.0,>=2.0.2 in /usr/local/lib/python3.6/dist-packages (from spacy>=2.1.0->neuralcoref) (2.0.5)\n",
            "Requirement already satisfied: wasabi<1.1.0,>=0.4.0 in /usr/local/lib/python3.6/dist-packages (from spacy>=2.1.0->neuralcoref) (0.8.1)\n",
            "Requirement already satisfied: srsly<1.1.0,>=1.0.2 in /usr/local/lib/python3.6/dist-packages (from spacy>=2.1.0->neuralcoref) (1.0.5)\n",
            "Requirement already satisfied: murmurhash<1.1.0,>=0.28.0 in /usr/local/lib/python3.6/dist-packages (from spacy>=2.1.0->neuralcoref) (1.0.5)\n",
            "Requirement already satisfied: setuptools in /usr/local/lib/python3.6/dist-packages (from spacy>=2.1.0->neuralcoref) (53.0.0)\n",
            "Requirement already satisfied: thinc==7.4.0 in /usr/local/lib/python3.6/dist-packages (from spacy>=2.1.0->neuralcoref) (7.4.0)\n",
            "Requirement already satisfied: blis<0.5.0,>=0.4.0 in /usr/local/lib/python3.6/dist-packages (from spacy>=2.1.0->neuralcoref) (0.4.1)\n",
            "Requirement already satisfied: tqdm<5.0.0,>=4.38.0 in /usr/local/lib/python3.6/dist-packages (from spacy>=2.1.0->neuralcoref) (4.41.1)\n",
            "Requirement already satisfied: preshed<3.1.0,>=3.0.2 in /usr/local/lib/python3.6/dist-packages (from spacy>=2.1.0->neuralcoref) (3.0.5)\n",
            "Collecting botocore<1.20.0,>=1.19.63\n",
            "\u001b[?25l  Downloading https://files.pythonhosted.org/packages/2c/05/0a955f0c92bec7da076fbbc73926dfb13fab8e2b88de7f8eb17c443f28f0/botocore-1.19.63-py2.py3-none-any.whl (7.2MB)\n",
            "\u001b[K     |████████████████████████████████| 7.2MB 9.6MB/s \n",
            "\u001b[?25hCollecting jmespath<1.0.0,>=0.7.1\n",
            "  Downloading https://files.pythonhosted.org/packages/07/cb/5f001272b6faeb23c1c9e0acc04d48eaaf5c862c17709d20e3469c6e0139/jmespath-0.10.0-py2.py3-none-any.whl\n",
            "Collecting s3transfer<0.4.0,>=0.3.0\n",
            "\u001b[?25l  Downloading https://files.pythonhosted.org/packages/ea/43/4b4a1b26eb03a429a4c37ca7fdf369d938bd60018fc194e94b8379b0c77c/s3transfer-0.3.4-py2.py3-none-any.whl (69kB)\n",
            "\u001b[K     |████████████████████████████████| 71kB 8.0MB/s \n",
            "\u001b[?25hRequirement already satisfied: chardet<4,>=3.0.2 in /usr/local/lib/python3.6/dist-packages (from requests<3.0.0,>=2.13.0->neuralcoref) (3.0.4)\n",
            "Requirement already satisfied: urllib3!=1.25.0,!=1.25.1,<1.26,>=1.21.1 in /usr/local/lib/python3.6/dist-packages (from requests<3.0.0,>=2.13.0->neuralcoref) (1.24.3)\n",
            "Requirement already satisfied: idna<3,>=2.5 in /usr/local/lib/python3.6/dist-packages (from requests<3.0.0,>=2.13.0->neuralcoref) (2.10)\n",
            "Requirement already satisfied: certifi>=2017.4.17 in /usr/local/lib/python3.6/dist-packages (from requests<3.0.0,>=2.13.0->neuralcoref) (2020.12.5)\n",
            "Requirement already satisfied: importlib-metadata>=0.20; python_version < \"3.8\" in /usr/local/lib/python3.6/dist-packages (from catalogue<1.1.0,>=0.0.7->spacy>=2.1.0->neuralcoref) (3.4.0)\n",
            "Requirement already satisfied: python-dateutil<3.0.0,>=2.1 in /usr/local/lib/python3.6/dist-packages (from botocore<1.20.0,>=1.19.63->boto3->neuralcoref) (2.8.1)\n",
            "Requirement already satisfied: zipp>=0.5 in /usr/local/lib/python3.6/dist-packages (from importlib-metadata>=0.20; python_version < \"3.8\"->catalogue<1.1.0,>=0.0.7->spacy>=2.1.0->neuralcoref) (3.4.0)\n",
            "Requirement already satisfied: typing-extensions>=3.6.4; python_version < \"3.8\" in /usr/local/lib/python3.6/dist-packages (from importlib-metadata>=0.20; python_version < \"3.8\"->catalogue<1.1.0,>=0.0.7->spacy>=2.1.0->neuralcoref) (3.7.4.3)\n",
            "Requirement already satisfied: six>=1.5 in /usr/local/lib/python3.6/dist-packages (from python-dateutil<3.0.0,>=2.1->botocore<1.20.0,>=1.19.63->boto3->neuralcoref) (1.15.0)\n",
            "\u001b[31mERROR: botocore 1.19.63 has requirement urllib3<1.27,>=1.25.4; python_version != \"3.4\", but you'll have urllib3 1.24.3 which is incompatible.\u001b[0m\n",
            "Installing collected packages: jmespath, botocore, s3transfer, boto3, neuralcoref\n",
            "Successfully installed boto3-1.16.63 botocore-1.19.63 jmespath-0.10.0 neuralcoref-4.0 s3transfer-0.3.4\n"
          ],
          "name": "stdout"
        },
        {
          "output_type": "stream",
          "text": [
            "/usr/lib/python3.6/importlib/_bootstrap.py:219: RuntimeWarning: spacy.morphology.Morphology size changed, may indicate binary incompatibility. Expected 104 from C header, got 112 from PyObject\n",
            "  return f(*args, **kwds)\n",
            "/usr/lib/python3.6/importlib/_bootstrap.py:219: RuntimeWarning: spacy.vocab.Vocab size changed, may indicate binary incompatibility. Expected 96 from C header, got 104 from PyObject\n",
            "  return f(*args, **kwds)\n",
            "/usr/lib/python3.6/importlib/_bootstrap.py:219: RuntimeWarning: spacy.tokens.span.Span size changed, may indicate binary incompatibility. Expected 72 from C header, got 80 from PyObject\n",
            "  return f(*args, **kwds)\n",
            "100%|██████████| 40155833/40155833 [00:00<00:00, 61371759.02B/s]\n"
          ],
          "name": "stderr"
        }
      ]
    },
    {
      "cell_type": "markdown",
      "metadata": {
        "id": "YGOvsYBCzOJ-"
      },
      "source": [
        "Lemmatization"
      ]
    },
    {
      "cell_type": "code",
      "metadata": {
        "colab": {
          "base_uri": "https://localhost:8080/"
        },
        "id": "ROfJLJhHzV8L",
        "outputId": "5f733bc8-e349-437f-807c-355aac4147b0"
      },
      "source": [
        "import spacy\r\n",
        "nlp = spacy.load('en', disable=['parser', 'ner'])\r\n",
        "doc = nlp(\"Xi Jinping is a Chinese politician who has served as General Secretary of the Chinese Communist Party (CCP) and Chairman of the Central Military Commission (CMC) since 2012, and President of the People's Republic of China (PRC) since 2013. He has been the paramount leader of China, the most prominent political leader in the country, since 2012. The son of Chinese Communist veteran Xi Zhongxun, he was exiled to rural Yanchuan County as a teenager following his father's purge during the Cultural Revolution and lived in a cave in the village of Liangjiahe, where he joined the CCP and worked as the party secretary.\")\r\n",
        "print(\" \".join([token.lemma_ for token in doc]))"
      ],
      "execution_count": null,
      "outputs": [
        {
          "output_type": "stream",
          "text": [
            "Xi Jinping be a chinese politician who have serve as General Secretary of the Chinese Communist Party ( CCP ) and Chairman of the Central Military Commission ( CMC ) since 2012 , and President of the People 's Republic of China ( PRC ) since 2013 . -PRON- have be the paramount leader of China , the most prominent political leader in the country , since 2012 . the son of Chinese communist veteran Xi Zhongxun , -PRON- be exile to rural Yanchuan County as a teenager follow -PRON- father 's purge during the Cultural Revolution and live in a cave in the village of Liangjiahe , where -PRON- join the CCP and work as the party secretary .\n"
          ],
          "name": "stdout"
        }
      ]
    },
    {
      "cell_type": "markdown",
      "metadata": {
        "id": "GRODm2us2LHO"
      },
      "source": [
        "Parsing"
      ]
    },
    {
      "cell_type": "code",
      "metadata": {
        "colab": {
          "base_uri": "https://localhost:8080/"
        },
        "id": "R76mlnmf2P3f",
        "outputId": "7d92564f-af53-42ae-ccba-9883f8c6bb8d"
      },
      "source": [
        "import spacy\r\n",
        "nlp = spacy.load(\"en_core_web_sm\")\r\n",
        "text = (\"Xi Jinping is a Chinese politician who has served as General Secretary of the Chinese Communist Party (CCP) and Chairman of the Central Military Commission (CMC) since 2012, and President of the People's Republic of China (PRC) since 2013. He has been the paramount leader of China, the most prominent political leader in the country, since 2012. The son of Chinese Communist veteran Xi Zhongxun, he was exiled to rural Yanchuan County as a teenager following his father's purge during the Cultural Revolution and lived in a cave in the village of Liangjiahe, where he joined the CCP and worked as the party secretary.\")\r\n",
        "doc = nlp(text)\r\n",
        "print(\"Noun phrases:\", [chunk.text for chunk in doc.noun_chunks])\r\n"
      ],
      "execution_count": 1,
      "outputs": [
        {
          "output_type": "stream",
          "text": [
            "Noun phrases: ['Xi Jinping', 'a Chinese politician', 'who', 'the Chinese Communist Party', 'Chairman', 'the Central Military Commission', 'CMC', 'President', \"the People's Republic\", 'China', '(PRC', 'He', 'the paramount leader', 'China', 'the most prominent political leader', 'the country', 'Chinese Communist veteran Xi Zhongxun', 'he', 'Yanchuan County', 'a teenager', \"his father's purge\", 'the Cultural Revolution', 'a cave', 'the village', 'Liangjiahe', 'he', 'the CCP', 'the party secretary']\n"
          ],
          "name": "stdout"
        }
      ]
    }
  ]
}